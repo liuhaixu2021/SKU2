{
 "cells": [
  {
   "cell_type": "code",
   "execution_count": 28,
   "metadata": {
    "collapsed": true,
    "ExecuteTime": {
     "end_time": "2023-09-27T06:14:35.486367Z",
     "start_time": "2023-09-27T06:14:35.391468Z"
    }
   },
   "outputs": [],
   "source": [
    "import pandas as pd\n",
    "# Load the dataset\n",
    "df = pd.read_excel(\"/Users/muyan/Desktop/SKU1_09_09.xlsx\")\n",
    "\n",
    "# 删除完全为空的列\n",
    "df_cleaned = df.dropna(axis=1, how='all')\n",
    "# 删除包含空值的行\n",
    "df_cleaned = df_cleaned.dropna(axis=0, how='any')\n",
    "#df_cleaned.head()"
   ]
  },
  {
   "cell_type": "code",
   "execution_count": 29,
   "outputs": [],
   "source": [
    "#1.以`salesdate`作为索引，星期，季度，是否节假日从`salesdate`中提取出来作为定类变量\n",
    "# 设置salesdate为索引并将其转换为日期格式\n",
    "df_cleaned['salesdate'] = pd.to_datetime(df_cleaned['salesdate'])\n",
    "df_cleaned.set_index('salesdate', inplace=True)\n",
    "# 从salesdate中提取星期、季度和节假日\n",
    "holidays = ['2022-01-01', '2022-05-01', '2022-10-01']  # 定义节假日\n",
    "df_cleaned['weekday'] = df_cleaned.index.dayofweek     # 提取星期\n",
    "df_cleaned['quarter'] = df_cleaned.index.quarter       # 提取季度\n",
    "df_cleaned['is_holiday'] = df_cleaned.index.isin(holidays).astype(int)  # 判断是否为节假日\n",
    "df_cleaned[['weekday', 'quarter', 'is_holiday']].head()\n",
    "\n"
   ],
   "metadata": {
    "collapsed": false,
    "ExecuteTime": {
     "end_time": "2023-09-27T06:14:36.660694Z",
     "start_time": "2023-09-27T06:14:36.639714Z"
    }
   }
  },
  {
   "cell_type": "code",
   "execution_count": 23,
   "outputs": [
    {
     "data": {
      "text/plain": "            price  comp_1_price  diff_price_comp_1  ratio_price_comp_1  \\\nsalesdate                                                                \n2022-04-18  27.49         29.95               2.46            1.089487   \n2022-04-19  27.79         29.95               2.16            1.077726   \n2022-04-20  27.79         29.95               2.16            1.077726   \n2022-04-21  27.69         29.95               2.26            1.081618   \n2022-04-22  27.69         29.95               2.26            1.081618   \n\n            comp_2_price  diff_price_comp_2  ratio_price_comp_2  \nsalesdate                                                        \n2022-04-18         29.99                2.5            1.090942  \n2022-04-19         29.99                2.2            1.079165  \n2022-04-20         29.99                2.2            1.079165  \n2022-04-21         29.99                2.3            1.083062  \n2022-04-22         29.99                2.3            1.083062  ",
      "text/html": "<div>\n<style scoped>\n    .dataframe tbody tr th:only-of-type {\n        vertical-align: middle;\n    }\n\n    .dataframe tbody tr th {\n        vertical-align: top;\n    }\n\n    .dataframe thead th {\n        text-align: right;\n    }\n</style>\n<table border=\"1\" class=\"dataframe\">\n  <thead>\n    <tr style=\"text-align: right;\">\n      <th></th>\n      <th>price</th>\n      <th>comp_1_price</th>\n      <th>diff_price_comp_1</th>\n      <th>ratio_price_comp_1</th>\n      <th>comp_2_price</th>\n      <th>diff_price_comp_2</th>\n      <th>ratio_price_comp_2</th>\n    </tr>\n    <tr>\n      <th>salesdate</th>\n      <th></th>\n      <th></th>\n      <th></th>\n      <th></th>\n      <th></th>\n      <th></th>\n      <th></th>\n    </tr>\n  </thead>\n  <tbody>\n    <tr>\n      <th>2022-04-18</th>\n      <td>27.49</td>\n      <td>29.95</td>\n      <td>2.46</td>\n      <td>1.089487</td>\n      <td>29.99</td>\n      <td>2.5</td>\n      <td>1.090942</td>\n    </tr>\n    <tr>\n      <th>2022-04-19</th>\n      <td>27.79</td>\n      <td>29.95</td>\n      <td>2.16</td>\n      <td>1.077726</td>\n      <td>29.99</td>\n      <td>2.2</td>\n      <td>1.079165</td>\n    </tr>\n    <tr>\n      <th>2022-04-20</th>\n      <td>27.79</td>\n      <td>29.95</td>\n      <td>2.16</td>\n      <td>1.077726</td>\n      <td>29.99</td>\n      <td>2.2</td>\n      <td>1.079165</td>\n    </tr>\n    <tr>\n      <th>2022-04-21</th>\n      <td>27.69</td>\n      <td>29.95</td>\n      <td>2.26</td>\n      <td>1.081618</td>\n      <td>29.99</td>\n      <td>2.3</td>\n      <td>1.083062</td>\n    </tr>\n    <tr>\n      <th>2022-04-22</th>\n      <td>27.69</td>\n      <td>29.95</td>\n      <td>2.26</td>\n      <td>1.081618</td>\n      <td>29.99</td>\n      <td>2.3</td>\n      <td>1.083062</td>\n    </tr>\n  </tbody>\n</table>\n</div>"
     },
     "execution_count": 23,
     "metadata": {},
     "output_type": "execute_result"
    }
   ],
   "source": [
    "#2.计算两个竞品与当天定价的差值与比率作为新的定量特征。\n",
    "# 计算与comp_1_price的价格差和比率\n",
    "df_cleaned['diff_price_comp_1'] = df_cleaned['comp_1_price'] - df_cleaned['price']\n",
    "df_cleaned['ratio_price_comp_1'] = df_cleaned['comp_1_price'] / df_cleaned['price']\n",
    "\n",
    "# 计算与comp_2_price的价格差和比率\n",
    "df_cleaned['diff_price_comp_2'] = df_cleaned['comp_2_price'] - df_cleaned['price']\n",
    "df_cleaned['ratio_price_comp_2'] = df_cleaned['comp_2_price'] / df_cleaned['price']\n",
    "\n",
    "df_cleaned[['price', 'comp_1_price', 'diff_price_comp_1', 'ratio_price_comp_1', 'comp_2_price', 'diff_price_comp_2', 'ratio_price_comp_2']].head()"
   ],
   "metadata": {
    "collapsed": false,
    "ExecuteTime": {
     "end_time": "2023-09-27T05:16:00.143471Z",
     "start_time": "2023-09-27T05:16:00.137815Z"
    }
   }
  },
  {
   "cell_type": "code",
   "execution_count": 24,
   "outputs": [
    {
     "data": {
      "text/plain": "            managed_fba_stock_level  previous_stock  unitsordered  \\\nsalesdate                                                           \n2022-04-18                   2001.0             NaN            72   \n2022-04-19                   2001.0          2001.0           105   \n2022-04-20                   2481.0          2001.0            92   \n2022-04-21                   2433.0          2481.0           108   \n2022-04-22                   2337.0          2433.0            95   \n\n            previous_unitsordered  storage_loss  \nsalesdate                                        \n2022-04-18                    NaN           NaN  \n2022-04-19                   72.0      0.000000  \n2022-04-20                  105.0     -4.571429  \n2022-04-21                   92.0      0.521739  \n2022-04-22                  108.0      0.888889  ",
      "text/html": "<div>\n<style scoped>\n    .dataframe tbody tr th:only-of-type {\n        vertical-align: middle;\n    }\n\n    .dataframe tbody tr th {\n        vertical-align: top;\n    }\n\n    .dataframe thead th {\n        text-align: right;\n    }\n</style>\n<table border=\"1\" class=\"dataframe\">\n  <thead>\n    <tr style=\"text-align: right;\">\n      <th></th>\n      <th>managed_fba_stock_level</th>\n      <th>previous_stock</th>\n      <th>unitsordered</th>\n      <th>previous_unitsordered</th>\n      <th>storage_loss</th>\n    </tr>\n    <tr>\n      <th>salesdate</th>\n      <th></th>\n      <th></th>\n      <th></th>\n      <th></th>\n      <th></th>\n    </tr>\n  </thead>\n  <tbody>\n    <tr>\n      <th>2022-04-18</th>\n      <td>2001.0</td>\n      <td>NaN</td>\n      <td>72</td>\n      <td>NaN</td>\n      <td>NaN</td>\n    </tr>\n    <tr>\n      <th>2022-04-19</th>\n      <td>2001.0</td>\n      <td>2001.0</td>\n      <td>105</td>\n      <td>72.0</td>\n      <td>0.000000</td>\n    </tr>\n    <tr>\n      <th>2022-04-20</th>\n      <td>2481.0</td>\n      <td>2001.0</td>\n      <td>92</td>\n      <td>105.0</td>\n      <td>-4.571429</td>\n    </tr>\n    <tr>\n      <th>2022-04-21</th>\n      <td>2433.0</td>\n      <td>2481.0</td>\n      <td>108</td>\n      <td>92.0</td>\n      <td>0.521739</td>\n    </tr>\n    <tr>\n      <th>2022-04-22</th>\n      <td>2337.0</td>\n      <td>2433.0</td>\n      <td>95</td>\n      <td>108.0</td>\n      <td>0.888889</td>\n    </tr>\n  </tbody>\n</table>\n</div>"
     },
     "execution_count": 24,
     "metadata": {},
     "output_type": "execute_result"
    }
   ],
   "source": [
    "#3.定义一个新列表示简单观察仓储耗损情况，计算方法是用前一天的stock level减去当天的数值，并比上前一天的`unitsordered`\n",
    "# 计算仓储耗损\n",
    "df_cleaned['previous_stock'] = df_cleaned['managed_fba_stock_level'].shift(1)\n",
    "df_cleaned['previous_unitsordered'] = df_cleaned['unitsordered'].shift(1)\n",
    "df_cleaned['storage_loss'] = (df_cleaned['previous_stock'] - df_cleaned['managed_fba_stock_level']) / df_cleaned['previous_unitsordered']\n",
    "df_cleaned[['managed_fba_stock_level', 'previous_stock', 'unitsordered', 'previous_unitsordered', 'storage_loss']].head()"
   ],
   "metadata": {
    "collapsed": false,
    "ExecuteTime": {
     "end_time": "2023-09-27T05:16:00.155564Z",
     "start_time": "2023-09-27T05:16:00.148106Z"
    }
   }
  },
  {
   "cell_type": "code",
   "execution_count": 25,
   "outputs": [
    {
     "data": {
      "text/plain": "            unitsordered  avg_unitsordered_7days  price  avg_price_7days\nsalesdate                                                               \n2022-04-18            72                     NaN  27.49              NaN\n2022-04-19           105                     NaN  27.79              NaN\n2022-04-20            92                     NaN  27.79              NaN\n2022-04-21           108                     NaN  27.69              NaN\n2022-04-22            95                     NaN  27.69              NaN",
      "text/html": "<div>\n<style scoped>\n    .dataframe tbody tr th:only-of-type {\n        vertical-align: middle;\n    }\n\n    .dataframe tbody tr th {\n        vertical-align: top;\n    }\n\n    .dataframe thead th {\n        text-align: right;\n    }\n</style>\n<table border=\"1\" class=\"dataframe\">\n  <thead>\n    <tr style=\"text-align: right;\">\n      <th></th>\n      <th>unitsordered</th>\n      <th>avg_unitsordered_7days</th>\n      <th>price</th>\n      <th>avg_price_7days</th>\n    </tr>\n    <tr>\n      <th>salesdate</th>\n      <th></th>\n      <th></th>\n      <th></th>\n      <th></th>\n    </tr>\n  </thead>\n  <tbody>\n    <tr>\n      <th>2022-04-18</th>\n      <td>72</td>\n      <td>NaN</td>\n      <td>27.49</td>\n      <td>NaN</td>\n    </tr>\n    <tr>\n      <th>2022-04-19</th>\n      <td>105</td>\n      <td>NaN</td>\n      <td>27.79</td>\n      <td>NaN</td>\n    </tr>\n    <tr>\n      <th>2022-04-20</th>\n      <td>92</td>\n      <td>NaN</td>\n      <td>27.79</td>\n      <td>NaN</td>\n    </tr>\n    <tr>\n      <th>2022-04-21</th>\n      <td>108</td>\n      <td>NaN</td>\n      <td>27.69</td>\n      <td>NaN</td>\n    </tr>\n    <tr>\n      <th>2022-04-22</th>\n      <td>95</td>\n      <td>NaN</td>\n      <td>27.69</td>\n      <td>NaN</td>\n    </tr>\n  </tbody>\n</table>\n</div>"
     },
     "execution_count": 25,
     "metadata": {},
     "output_type": "execute_result"
    }
   ],
   "source": [
    "#4.对前7个日期的 unitsordered 和 price 取平均\n",
    "# 计算前7天的unitsordered和price的滚动平均值\n",
    "df_cleaned['avg_unitsordered_7days'] = df_cleaned['unitsordered'].rolling(window=7).mean()\n",
    "df_cleaned['avg_price_7days'] = df_cleaned['price'].rolling(window=7).mean()\n",
    "\n",
    "df_cleaned[['unitsordered', 'avg_unitsordered_7days', 'price', 'avg_price_7days']].head()"
   ],
   "metadata": {
    "collapsed": false,
    "ExecuteTime": {
     "end_time": "2023-09-27T05:16:00.205992Z",
     "start_time": "2023-09-27T05:16:00.151656Z"
    }
   }
  }
 ],
 "metadata": {
  "kernelspec": {
   "display_name": "Python 3",
   "language": "python",
   "name": "python3"
  },
  "language_info": {
   "codemirror_mode": {
    "name": "ipython",
    "version": 2
   },
   "file_extension": ".py",
   "mimetype": "text/x-python",
   "name": "python",
   "nbconvert_exporter": "python",
   "pygments_lexer": "ipython2",
   "version": "2.7.6"
  }
 },
 "nbformat": 4,
 "nbformat_minor": 0
}
